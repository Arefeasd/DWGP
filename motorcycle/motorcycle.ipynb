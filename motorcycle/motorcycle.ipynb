{
 "cells": [
  {
   "cell_type": "code",
   "execution_count": 247,
   "id": "7468cdf2-cfc1-4f21-bc6d-c604a96d8c72",
   "metadata": {},
   "outputs": [],
   "source": [
    "import functions_exp_kernel as fn\n",
    "import importlib\n",
    "importlib.reload(fn)\n",
    "\n",
    "import numpy as np\n",
    "import pandas as pd\n",
    "import matplotlib.pyplot as plt\n",
    "from scipy.optimize import minimize\n",
    "from sklearn.model_selection import train_test_split\n",
    "from sklearn.model_selection import KFold\n",
    "from scipy.stats import norm\n",
    "from scipy.integrate import quad\n",
    "import matplotlib.pyplot as plt\n",
    "from scipy.stats import norm\n",
    "from scipy.optimize import differential_evolution\n",
    "import scipy.linalg\n",
    "from sklearn.covariance import MinCovDet\n",
    "from scipy.spatial.distance import mahalanobis\n",
    "from sklearn.metrics import mean_absolute_error\n",
    "from sklearn.metrics import mean_squared_error\n",
    "from sklearn.neighbors import NearestNeighbors\n",
    "from sklearn.metrics import r2_score\n",
    "import time\n",
    "import random\n",
    "from sklearn.preprocessing import StandardScaler\n",
    "from joblib import Parallel, delayed\n",
    "from scipy import stats"
   ]
  },
  {
   "cell_type": "code",
   "execution_count": 249,
   "id": "1978f8fb-481a-4ec7-b965-377bd44198ab",
   "metadata": {},
   "outputs": [],
   "source": [
    "# Set random seed for reproducibility\n",
    "SEED = 42\n",
    "random.seed(SEED)\n",
    "np.random.seed(SEED)"
   ]
  },
  {
   "cell_type": "code",
   "execution_count": 251,
   "id": "7a37cb56-cffd-443c-9acf-9228c1965b94",
   "metadata": {},
   "outputs": [
    {
     "name": "stdout",
     "output_type": "stream",
     "text": [
      "X shape: (133, 1), Y shape: (133, 1)\n"
     ]
    },
    {
     "data": {
      "image/png": "[encoded data removed]",
      "text/plain": [
       "<Figure size 640x480 with 1 Axes>"
      ]
     },
     "metadata": {},
     "output_type": "display_data"
    }
   ],
   "source": [
    "data = pd.read_csv(\"mcycle.csv\")\n",
    "\n",
    "X = data.iloc[:, 1].values.reshape(-1, 1)  # column 'times'\n",
    "Y = data.iloc[:, 2].values.reshape(-1, 1)  # column 'accel'\n",
    "\n",
    "print(f\"X shape: {X.shape}, Y shape: {Y.shape}\")\n",
    "plt.scatter(X, Y, label=\"Original Data\")\n",
    "plt.xlabel(\"Time\")\n",
    "plt.ylabel(\"Acceleration\")\n",
    "plt.title(\"Original Motorcycle Dataset\")\n",
    "plt.legend()\n",
    "plt.show()\n"
   ]
  },
  {
   "cell_type": "code",
   "execution_count": 253,
   "id": "e6084957-e70c-4c3c-9f95-b7db5ebb975a",
   "metadata": {},
   "outputs": [
    {
     "name": "stdout",
     "output_type": "stream",
     "text": [
      "Best k for DWGP: 13\n"
     ]
    }
   ],
   "source": [
    "# Estimate best k for DWGP\n",
    "scaler_X = StandardScaler()\n",
    "scaler_y = StandardScaler()\n",
    "X_scaled = scaler_X.fit_transform(X)\n",
    "Y_scaled = scaler_y.fit_transform(Y)\n",
    "\n",
    "depth_opt_K = np.zeros((15, 2))\n",
    "for k in range(5, 20):\n",
    "    nbrs = NearestNeighbors(n_neighbors=k).fit(X_scaled)\n",
    "    distances, indices = nbrs.kneighbors(X_scaled)\n",
    "    depth = np.zeros(len(X_scaled))\n",
    "    for i in range(len(X_scaled)):\n",
    "        depth[i] = fn.mahalanobis_depth(Y_scaled[indices[i][1:]], Y_scaled[indices[i][0]]).item()\n",
    "    gamma, lamda = fn.optimize_weight_parameters(X_scaled, Y_scaled, depth)\n",
    "    weight_depth_opt = fn.weight(1 - depth, gamma, lamda)\n",
    "    theta, sigma = fn.optimize_hyperparameters_weighted(X_scaled, Y_scaled, weight_depth_opt)\n",
    "    nll = fn.negative_log_marginal_likelihood_weighted((theta, sigma), X_scaled, Y_scaled, weight_depth_opt)\n",
    "    depth_opt_K[k - 5] = [k, nll]\n",
    "\n",
    "best_k = int(depth_opt_K[np.argmin(depth_opt_K[:, 1]), 0])\n",
    "print(f\"Best k for DWGP: {best_k}\")\n"
   ]
  },
  {
   "cell_type": "code",
   "execution_count": 255,
   "id": "bcf310ee-5fc1-4a02-b01c-74e9bacc2c46",
   "metadata": {},
   "outputs": [
    {
     "name": "stdout",
     "output_type": "stream",
     "text": [
      "k : 13, gamma: 0.03977576427672453, lamda: 12.888440538833011\n",
      "theta_DWGP : 6.11156060248707, sigma2_DWGP: 0.020490047795597564\n"
     ]
    }
   ],
   "source": [
    "depth_opt_K_sort = depth_opt_K[depth_opt_K[:,1].argsort()]\n",
    "k = int(depth_opt_K_sort[0, 0])\n",
    "nbrs = NearestNeighbors(n_neighbors = k, algorithm = 'auto').fit(X_scaled)\n",
    "distances, indices = nbrs.kneighbors(X_scaled)\n",
    "depth = np.zeros(len(X_scaled))\n",
    "for i in range(len(X_scaled)):\n",
    "    depth[i] = fn.mahalanobis_depth(Y_scaled[indices[i][1:]], Y_scaled[indices[i][0]]).item()\n",
    "gamma, lamda = fn.optimize_weight_parameters(X_scaled, Y_scaled, depth)\n",
    "weight_depth_opt = fn.weight(1-depth, gamma, lamda)\n",
    "print(f\"k : {k}, gamma: {gamma}, lamda: {lamda}\")\n",
    "theta_DWGP, sigma_DWGP = fn.optimize_hyperparameters_weighted(X_scaled, Y_scaled, weight_depth_opt)\n",
    "\n",
    "print(f\"theta_DWGP : {theta_DWGP}, sigma2_DWGP: {sigma_DWGP**2}\")"
   ]
  },
  {
   "cell_type": "code",
   "execution_count": 211,
   "id": "788d414f-8ad6-4bff-8867-f6b303db1f6f",
   "metadata": {},
   "outputs": [],
   "source": [
    "theta_RWGP = 0.02\n",
    "sigma_RWGP = np.sqrt(0.008)\n",
    "theta_SGP = 0.03\n",
    "sigma_SGP = np.sqrt(0.2)"
   ]
  },
  {
   "cell_type": "code",
   "execution_count": 213,
   "id": "e8987085-c30b-48d1-a3b8-9b816d8aab47",
   "metadata": {},
   "outputs": [
    {
     "name": "stdout",
     "output_type": "stream",
     "text": [
      "Execution time (clean): 137.52 seconds\n",
      "DWGP RMSE (clean): 23.1616 ± 0.3478\n",
      "RWGP RMSE (clean): 24.1383 ± 0.4330\n",
      "SGP  RMSE (clean): 22.5663 ± 0.2971\n",
      "Average Error Difference between DWGP_clean and RWGP_clean: -0.9767\n",
      "Average Error Difference between DWGP_clean and SGP_clean: 0.5953\n"
     ]
    }
   ],
   "source": [
    "def run_repeat_clean(repeat):\n",
    "    print(f\"Running repeat {repeat + 1}\")\n",
    "    rmse_DWGP_clean_list, rmse_RWGP_clean_list, rmse_SGP_clean_list = [], [], []\n",
    "\n",
    "    kf = KFold(n_splits=10, shuffle=True, random_state=repeat)\n",
    "    for train_index, test_index in kf.split(X):\n",
    "        X_train, X_test = X[train_index], X[test_index]\n",
    "        y_train_clean = Y[train_index]\n",
    "        y_test_clean = Y[test_index]\n",
    "\n",
    "        # DWGP\n",
    "        scaler_X = StandardScaler()\n",
    "        scaler_y = StandardScaler()\n",
    "        X_train_std = scaler_X.fit_transform(X_train)\n",
    "        y_train_std = scaler_y.fit_transform(y_train_clean)\n",
    "        X_test_std = scaler_X.transform(X_test)\n",
    "\n",
    "        nbrs = NearestNeighbors(n_neighbors=best_k).fit(X_train_std)\n",
    "        distances, indices = nbrs.kneighbors(X_train_std)\n",
    "        depth = np.zeros(len(X_train_std))\n",
    "        for i in range(len(X_train_std)):\n",
    "            depth[i] = fn.mahalanobis_depth(y_train_std[indices[i][1:]], y_train_std[indices[i][0]]).item()\n",
    "        gamma, lamda = fn.optimize_weight_parameters(X_train_std, y_train_std, depth)\n",
    "        weight_depth_opt = fn.weight(1 - depth, gamma, lamda)\n",
    "\n",
    "        mu_s_DWGP_std, _ = fn.gp_regression_weighted(X_train_std, y_train_std, X_test_std, theta_DWGP, sigma_DWGP, weight_depth_opt)\n",
    "        mu_s_DWGP = scaler_y.inverse_transform(mu_s_DWGP_std)\n",
    "        rmse_DWGP_clean_list.append(np.sqrt(mean_squared_error(y_test_clean, mu_s_DWGP)))\n",
    "\n",
    "        # RWGP\n",
    "        w_D = fn.compute_robust_weights(X_train, y_train_clean, gamma=0.005, r=0.5, s=5, eta=0.5)\n",
    "        mu_s_RWGP, _ = fn.gp_regression_weighted(X_train, y_train_clean, X_test, theta_RWGP, sigma_RWGP, w_D)\n",
    "        rmse_RWGP_clean_list.append(np.sqrt(mean_squared_error(y_test_clean, mu_s_RWGP)))\n",
    "\n",
    "        # SGP\n",
    "        mu_s_SGP, _ = fn.gp_regression(X_train, y_train_clean, X_test, theta_SGP, sigma_SGP)\n",
    "        rmse_SGP_clean_list.append(np.sqrt(mean_squared_error(y_test_clean, mu_s_SGP)))\n",
    "\n",
    "    return rmse_DWGP_clean_list, rmse_RWGP_clean_list, rmse_SGP_clean_list\n",
    "\n",
    "\n",
    "# ---------- اجرا ----------\n",
    "start_time = time.time()\n",
    "results_clean = Parallel(n_jobs=8)(delayed(run_repeat_clean)(i) for i in range(30))\n",
    "\n",
    "rmse_results_DWGP_clean = np.array([r[0] for r in results_clean])\n",
    "rmse_results_RWGP_clean = np.array([r[1] for r in results_clean])\n",
    "rmse_results_SGP_clean = np.array([r[2] for r in results_clean])\n",
    "\n",
    "rmse_DWGP_clean = np.mean(rmse_results_DWGP_clean, axis=1)\n",
    "rmse_RWGP_clean = np.mean(rmse_results_RWGP_clean, axis=1)\n",
    "rmse_SGP_clean = np.mean(rmse_results_SGP_clean, axis=1)\n",
    "\n",
    "mean_rmse_DWGP_clean = np.mean(rmse_DWGP_clean)\n",
    "std_rmse_DWGP_clean = np.std(rmse_DWGP_clean)\n",
    "\n",
    "mean_rmse_RWGP_clean = np.mean(rmse_RWGP_clean)\n",
    "std_rmse_RWGP_clean = np.std(rmse_RWGP_clean)\n",
    "\n",
    "mean_rmse_SGP_clean = np.mean(rmse_SGP_clean)\n",
    "std_rmse_SGP_clean = np.std(rmse_SGP_clean)\n",
    "\n",
    "end_time = time.time()\n",
    "execution_time_clean = end_time - start_time\n",
    "\n",
    "print(f\"Execution time (clean): {execution_time_clean:.2f} seconds\")\n",
    "print(f\"DWGP RMSE (clean): {mean_rmse_DWGP_clean:.4f} ± {std_rmse_DWGP_clean:.4f}\")\n",
    "print(f\"RWGP RMSE (clean): {mean_rmse_RWGP_clean:.4f} ± {std_rmse_RWGP_clean:.4f}\")\n",
    "print(f\"SGP  RMSE (clean): {mean_rmse_SGP_clean:.4f} ± {std_rmse_SGP_clean:.4f}\")\n",
    "\n",
    "print(f\"Average Error Difference between DWGP_clean and RWGP_clean: {np.mean(rmse_DWGP_clean)-np.mean(rmse_RWGP_clean):.4f}\")\n",
    "print(f\"Average Error Difference between DWGP_clean and SGP_clean: {np.mean(rmse_DWGP_clean)-np.mean(rmse_SGP_clean):.4f}\")\n"
   ]
  },
  {
   "cell_type": "code",
   "execution_count": 215,
   "id": "93af4869-4d13-4bb0-952d-ec30fbdcd518",
   "metadata": {},
   "outputs": [
    {
     "name": "stdout",
     "output_type": "stream",
     "text": [
      "T-statistic: -20.53194885808915\n",
      "P-value: 8.050642093838331e-19\n"
     ]
    }
   ],
   "source": [
    "t_stat, p_value = stats.ttest_rel(rmse_DWGP_clean, rmse_RWGP_clean)\n",
    "print(\"T-statistic:\", t_stat)\n",
    "print(\"P-value:\", p_value)\n"
   ]
  },
  {
   "cell_type": "code",
   "execution_count": 217,
   "id": "e99e8f1a-22fe-44cf-9c87-e2a22d0ad401",
   "metadata": {},
   "outputs": [
    {
     "name": "stdout",
     "output_type": "stream",
     "text": [
      "T-statistic: 13.768801412520016\n",
      "P-value: 2.993717306161751e-14\n"
     ]
    }
   ],
   "source": [
    "t_stat, p_value = stats.ttest_rel(rmse_DWGP_clean, rmse_SGP_clean)\n",
    "print(\"T-statistic:\", t_stat)\n",
    "print(\"P-value:\", p_value)\n"
   ]
  },
  {
   "cell_type": "code",
   "execution_count": 221,
   "id": "8d7ea4d9-ce57-40a9-8dbd-981a174d20a2",
   "metadata": {},
   "outputs": [
    {
     "name": "stdout",
     "output_type": "stream",
     "text": [
      "Execution time (5%): 302.80 seconds\n",
      "DWGP RMSE (5%): 24.9908 ± 0.7637\n",
      "RWGP RMSE (5%): 24.1932 ± 0.4709\n",
      "SGP  RMSE (5%): 25.2693 ± 0.4076\n",
      "Average Error Difference between DWGP_5 and RWGP_5: 0.7976\n",
      "Average Error Difference between DWGP_5 and SGP_5: -0.2785\n"
     ]
    }
   ],
   "source": [
    "# ----------5% Contamination----------\n",
    "np.random.seed(42)\n",
    "outlier_ratio = 0.05\n",
    "num_outliers = int(outlier_ratio * len(Y))\n",
    "outlier_indices = np.random.choice(len(Y), num_outliers, replace=False)\n",
    "y_std = np.std(Y)\n",
    "outlier_magnitude = np.random.uniform(3 * y_std, 5 * y_std, num_outliers).reshape(-1, 1)\n",
    "outlier_sign = np.random.choice([-1, 1], num_outliers).reshape(-1, 1)\n",
    "\n",
    "Y_5 = Y.copy()\n",
    "Y_5[outlier_indices] += outlier_sign * outlier_magnitude \n",
    "\n",
    "def run_repeat_5percent(repeat):\n",
    "    print(f\"Running repeat {repeat + 1}\")\n",
    "    rmse_DWGP_5_list, rmse_RWGP_5_list, rmse_SGP_5_list = [], [], []\n",
    "\n",
    "    kf = KFold(n_splits=10, shuffle=True, random_state=repeat)\n",
    "    for train_index, test_index in kf.split(X):\n",
    "        X_train, X_test = X[train_index], X[test_index]\n",
    "        y_train_5 = Y_5[train_index] \n",
    "        y_test_clean = Y[test_index] \n",
    "\n",
    "        # DWGP\n",
    "        scaler_X = StandardScaler()\n",
    "        scaler_y = StandardScaler()\n",
    "        X_train_std = scaler_X.fit_transform(X_train)\n",
    "        y_train_std = scaler_y.fit_transform(y_train_5)\n",
    "        X_test_std = scaler_X.transform(X_test)\n",
    "\n",
    "        nbrs = NearestNeighbors(n_neighbors=best_k).fit(X_train_std)\n",
    "        distances, indices = nbrs.kneighbors(X_train_std)\n",
    "        depth = np.zeros(len(X_train_std))\n",
    "        for i in range(len(X_train_std)):\n",
    "            depth[i] = fn.mahalanobis_depth(y_train_std[indices[i][1:]], y_train_std[indices[i][0]]).item()\n",
    "        gamma, lamda = fn.optimize_weight_parameters(X_train_std, y_train_std, depth)\n",
    "        weight_depth_opt = fn.weight(1 - depth, gamma, lamda)\n",
    "\n",
    "        mu_s_DWGP_std, _ = fn.gp_regression_weighted(X_train_std, y_train_std, X_test_std, theta_DWGP, sigma_DWGP, weight_depth_opt)\n",
    "        mu_s_DWGP = scaler_y.inverse_transform(mu_s_DWGP_std)\n",
    "        rmse_DWGP_5_list.append(np.sqrt(mean_squared_error(y_test_clean, mu_s_DWGP)))\n",
    "\n",
    "        # RWGP\n",
    "        w_D = fn.compute_robust_weights(X_train, y_train_5, gamma=0.005, r=0.5, s=5, eta=0.5)\n",
    "        mu_s_RWGP, _ = fn.gp_regression_weighted(X_train, y_train_5, X_test, theta_RWGP, sigma_RWGP, w_D)\n",
    "        rmse_RWGP_5_list.append(np.sqrt(mean_squared_error(y_test_clean, mu_s_RWGP)))\n",
    "\n",
    "        # SGP\n",
    "        mu_s_SGP, _ = fn.gp_regression(X_train, y_train_5, X_test, theta_SGP, sigma_SGP)\n",
    "        rmse_SGP_5_list.append(np.sqrt(mean_squared_error(y_test_clean, mu_s_SGP)))\n",
    "\n",
    "    return rmse_DWGP_5_list, rmse_RWGP_5_list, rmse_SGP_5_list\n",
    "\n",
    "start_time = time.time()\n",
    "results_5 = Parallel(n_jobs=6)(delayed(run_repeat_5percent)(i) for i in range(30))\n",
    "\n",
    "rmse_results_DWGP_5 = np.array([r[0] for r in results_5])\n",
    "rmse_results_RWGP_5 = np.array([r[1] for r in results_5])\n",
    "rmse_results_SGP_5 = np.array([r[2] for r in results_5])\n",
    "\n",
    "rmse_DWGP_5 = np.mean(rmse_results_DWGP_5, axis=1)\n",
    "\n",
    "mean_rmse_DWGP_5 = np.mean(rmse_DWGP_5)\n",
    "std_rmse_DWGP_5 = np.std(rmse_DWGP_5)\n",
    "\n",
    "rmse_RWGP_5 = np.mean(rmse_results_RWGP_5, axis=1)\n",
    "\n",
    "mean_rmse_RWGP_5 = np.mean(rmse_RWGP_5)\n",
    "std_rmse_RWGP_5 = np.std(rmse_RWGP_5)\n",
    "\n",
    "\n",
    "rmse_SGP_5 = np.mean(rmse_results_SGP_5, axis=1)\n",
    "\n",
    "mean_rmse_SGP_5 = np.mean(rmse_SGP_5)\n",
    "std_rmse_SGP_5 = np.std(rmse_SGP_5)\n",
    "\n",
    "end_time = time.time()\n",
    "execution_time_5 = end_time - start_time\n",
    "\n",
    "print(f\"Execution time (5%): {execution_time_5:.2f} seconds\")\n",
    "print(f\"DWGP RMSE (5%): {mean_rmse_DWGP_5:.4f} ± {std_rmse_DWGP_5:.4f}\")\n",
    "print(f\"RWGP RMSE (5%): {mean_rmse_RWGP_5:.4f} ± {std_rmse_RWGP_5:.4f}\")\n",
    "print(f\"SGP  RMSE (5%): {mean_rmse_SGP_5:.4f} ± {std_rmse_SGP_5:.4f}\")\n",
    "\n",
    "print(f\"Average Error Difference between DWGP_5 and RWGP_5: {np.mean(rmse_DWGP_5)-np.mean(rmse_RWGP_5):.4f}\")\n",
    "print(f\"Average Error Difference between DWGP_5 and SGP_5: {np.mean(rmse_DWGP_5)-np.mean(rmse_SGP_5):.4f}\")"
   ]
  },
  {
   "cell_type": "code",
   "execution_count": 223,
   "id": "5613d1ae-0db8-4840-87a1-22d43dda9a2b",
   "metadata": {},
   "outputs": [
    {
     "name": "stdout",
     "output_type": "stream",
     "text": [
      "T-statistic: 6.587958970987807\n",
      "P-value: 3.21843793493663e-07\n"
     ]
    }
   ],
   "source": [
    "t_stat, p_value = stats.ttest_rel(rmse_DWGP_5, rmse_RWGP_5)\n",
    "print(\"T-statistic:\", t_stat)\n",
    "print(\"P-value:\", p_value)\n"
   ]
  },
  {
   "cell_type": "code",
   "execution_count": 225,
   "id": "5389f76c-846e-4a87-93f4-67c28ccc59bd",
   "metadata": {},
   "outputs": [
    {
     "name": "stdout",
     "output_type": "stream",
     "text": [
      "T-statistic: -2.5584320903375146\n",
      "P-value: 0.015999481930333667\n"
     ]
    }
   ],
   "source": [
    "t_stat, p_value = stats.ttest_rel(rmse_DWGP_5, rmse_SGP_5)\n",
    "print(\"T-statistic:\", t_stat)\n",
    "print(\"P-value:\", p_value)\n"
   ]
  },
  {
   "cell_type": "code",
   "execution_count": 229,
   "id": "8cca7328-2b82-4663-9984-59b13b330b02",
   "metadata": {},
   "outputs": [
    {
     "name": "stdout",
     "output_type": "stream",
     "text": [
      "Execution time (10%): 124.50 seconds\n",
      "DWGP RMSE (10%): 25.9762 ± 0.8697\n",
      "RWGP RMSE (10%): 23.7111 ± 0.4494\n",
      "SGP  RMSE (10%): 26.4352 ± 0.6148\n",
      "Average Error Difference between DWGP_10 and RWGP_10: 2.2651\n",
      "Average Error Difference between DWGP_10 and SGP_10: -0.4590\n"
     ]
    }
   ],
   "source": [
    "# ----------10% Contamination---------\n",
    "np.random.seed(42)\n",
    "outlier_ratio = 0.10\n",
    "num_outliers = int(outlier_ratio * len(Y))\n",
    "outlier_indices = np.random.choice(len(Y), num_outliers, replace=False)\n",
    "y_std = np.std(Y)\n",
    "outlier_magnitude = np.random.uniform(3 * y_std, 5 * y_std, num_outliers).reshape(-1, 1)\n",
    "outlier_sign = np.random.choice([-1, 1], num_outliers).reshape(-1, 1)\n",
    "\n",
    "Y_10 = Y.copy()\n",
    "Y_10[outlier_indices] += outlier_sign * outlier_magnitude  \n",
    "\n",
    "def run_repeat_10percent(repeat):\n",
    "    rmse_DWGP_10_list, rmse_RWGP_10_list, rmse_SGP_10_list = [], [], []\n",
    "\n",
    "    kf = KFold(n_splits=10, shuffle=True, random_state=repeat)\n",
    "    for train_index, test_index in kf.split(X):\n",
    "        X_train, X_test = X[train_index], X[test_index]\n",
    "        y_train_10 = Y_10[train_index]  \n",
    "        y_test_clean = Y[test_index]    \n",
    "\n",
    "        # DWGP\n",
    "        scaler_X = StandardScaler()\n",
    "        scaler_y = StandardScaler()\n",
    "        X_train_std = scaler_X.fit_transform(X_train)\n",
    "        y_train_std = scaler_y.fit_transform(y_train_10)\n",
    "        X_test_std = scaler_X.transform(X_test)\n",
    "\n",
    "        nbrs = NearestNeighbors(n_neighbors=best_k).fit(X_train_std)\n",
    "        distances, indices = nbrs.kneighbors(X_train_std)\n",
    "        depth = np.zeros(len(X_train_std))\n",
    "        for i in range(len(X_train_std)):\n",
    "            depth[i] = fn.mahalanobis_depth(y_train_std[indices[i][1:]], y_train_std[indices[i][0]]).item()\n",
    "        gamma, lamda = fn.optimize_weight_parameters(X_train_std, y_train_std, depth)\n",
    "        weight_depth_opt = fn.weight(1 - depth, gamma, lamda)\n",
    "\n",
    "        mu_s_DWGP_std, _ = fn.gp_regression_weighted(X_train_std, y_train_std, X_test_std, theta_DWGP, sigma_DWGP, weight_depth_opt)\n",
    "        mu_s_DWGP = scaler_y.inverse_transform(mu_s_DWGP_std)\n",
    "        rmse_DWGP_10_list.append(np.sqrt(mean_squared_error(y_test_clean, mu_s_DWGP)))\n",
    "\n",
    "        # RWGP\n",
    "        w_D = fn.compute_robust_weights(X_train, y_train_10, gamma=0.005, r=0.5, s=5, eta=0.5)\n",
    "        mu_s_RWGP, _ = fn.gp_regression_weighted(X_train, y_train_10, X_test, theta_RWGP, sigma_RWGP, w_D)\n",
    "        rmse_RWGP_10_list.append(np.sqrt(mean_squared_error(y_test_clean, mu_s_RWGP)))\n",
    "\n",
    "        # SGP\n",
    "        mu_s_SGP, _ = fn.gp_regression(X_train, y_train_10, X_test, theta_SGP, sigma_SGP)\n",
    "        rmse_SGP_10_list.append(np.sqrt(mean_squared_error(y_test_clean, mu_s_SGP)))\n",
    "\n",
    "    return rmse_DWGP_10_list, rmse_RWGP_10_list, rmse_SGP_10_list\n",
    "\n",
    "# -------------------\n",
    "start_time = time.time()\n",
    "results_10 = Parallel(n_jobs=8)(delayed(run_repeat_10percent)(i) for i in range(30))\n",
    "\n",
    "rmse_results_DWGP_10 = np.array([r[0] for r in results_10])\n",
    "rmse_results_RWGP_10 = np.array([r[1] for r in results_10])\n",
    "rmse_results_SGP_10 = np.array([r[2] for r in results_10])\n",
    "\n",
    "\n",
    "rmse_DWGP_10 = np.mean(rmse_results_DWGP_10, axis=1)\n",
    "\n",
    "mean_rmse_DWGP_10 = np.mean(rmse_DWGP_10)\n",
    "std_rmse_DWGP_10 = np.std(rmse_DWGP_10)\n",
    "\n",
    "rmse_RWGP_10 = np.mean(rmse_results_RWGP_10, axis=1)\n",
    "\n",
    "mean_rmse_RWGP_10 = np.mean(rmse_RWGP_10)\n",
    "std_rmse_RWGP_10 = np.std(rmse_RWGP_10)\n",
    "\n",
    "\n",
    "rmse_SGP_10 = np.mean(rmse_results_SGP_10, axis=1)\n",
    "\n",
    "mean_rmse_SGP_10 = np.mean(rmse_SGP_10)\n",
    "std_rmse_SGP_10 = np.std(rmse_SGP_10)\n",
    "\n",
    "end_time = time.time()\n",
    "execution_time_10 = end_time - start_time\n",
    "\n",
    "print(f\"Execution time (10%): {execution_time_10:.2f} seconds\")\n",
    "print(f\"DWGP RMSE (10%): {mean_rmse_DWGP_10:.4f} ± {std_rmse_DWGP_10:.4f}\")\n",
    "print(f\"RWGP RMSE (10%): {mean_rmse_RWGP_10:.4f} ± {std_rmse_RWGP_10:.4f}\")\n",
    "print(f\"SGP  RMSE (10%): {mean_rmse_SGP_10:.4f} ± {std_rmse_SGP_10:.4f}\")\n",
    "\n",
    "print(f\"Average Error Difference between DWGP_10 and RWGP_10: {np.mean(rmse_DWGP_10)-np.mean(rmse_RWGP_10):.4f}\")\n",
    "print(f\"Average Error Difference between DWGP_10 and SGP_10: {np.mean(rmse_DWGP_10)-np.mean(rmse_SGP_10):.4f}\")"
   ]
  },
  {
   "cell_type": "code",
   "execution_count": 231,
   "id": "03666a48-bf21-49d3-9317-0603a22bbbe6",
   "metadata": {},
   "outputs": [
    {
     "name": "stdout",
     "output_type": "stream",
     "text": [
      "T-statistic: 13.959252603720492\n",
      "P-value: 2.1142364936504967e-14\n"
     ]
    }
   ],
   "source": [
    "t_stat, p_value = stats.ttest_rel(rmse_DWGP_10, rmse_RWGP_10)\n",
    "print(\"T-statistic:\", t_stat)\n",
    "print(\"P-value:\", p_value)"
   ]
  },
  {
   "cell_type": "code",
   "execution_count": 233,
   "id": "b903d177-68e5-4153-acf4-b2ef296b134a",
   "metadata": {},
   "outputs": [
    {
     "name": "stdout",
     "output_type": "stream",
     "text": [
      "T-statistic: -3.7533578909284127\n",
      "P-value: 0.000778171779002303\n"
     ]
    }
   ],
   "source": [
    "t_stat, p_value = stats.ttest_rel(rmse_DWGP_10, rmse_SGP_10)\n",
    "print(\"T-statistic:\", t_stat)\n",
    "print(\"P-value:\", p_value)"
   ]
  },
  {
   "cell_type": "code",
   "execution_count": 235,
   "id": "5c127361-d933-434e-a236-5502437b72eb",
   "metadata": {},
   "outputs": [
    {
     "name": "stdout",
     "output_type": "stream",
     "text": [
      "Execution time (15%): 80.37 seconds\n",
      "DWGP RMSE (15%): 26.7441 ± 1.1300\n",
      "RWGP RMSE (15%): 23.9460 ± 0.6692\n",
      "SGP  RMSE (15%): 27.0446 ± 0.7040\n",
      "Average Error Difference between DWGP_15 and RWGP_15: 2.7981\n",
      "Average Error Difference between DWGP_15 and SGP_15: -0.3006\n"
     ]
    }
   ],
   "source": [
    "# ----------15% Contamination----------\n",
    "np.random.seed(42)\n",
    "outlier_ratio = 0.15\n",
    "num_outliers = int(outlier_ratio * len(Y))\n",
    "outlier_indices = np.random.choice(len(Y), num_outliers, replace=False)\n",
    "y_std = np.std(Y)\n",
    "outlier_magnitude = np.random.uniform(3 * y_std, 5 * y_std, num_outliers).reshape(-1, 1)\n",
    "outlier_sign = np.random.choice([-1, 1], num_outliers).reshape(-1, 1)\n",
    "\n",
    "Y_15 = Y.copy()\n",
    "Y_15[outlier_indices] += outlier_sign * outlier_magnitude  \n",
    "\n",
    "\n",
    "def run_repeat_15percent(repeat):\n",
    "    print(f\"Running repeat {repeat + 1}\")\n",
    "    rmse_DWGP_15_list, rmse_RWGP_15_list, rmse_SGP_15_list = [], [], []\n",
    "\n",
    "    kf = KFold(n_splits=10, shuffle=True, random_state=repeat)\n",
    "    for train_index, test_index in kf.split(X):\n",
    "        X_train, X_test = X[train_index], X[test_index]\n",
    "        y_train_15 = Y_15[train_index]     \n",
    "        y_test_clean = Y[test_index]       \n",
    "\n",
    "        # DWGP\n",
    "        scaler_X = StandardScaler()\n",
    "        scaler_y = StandardScaler()\n",
    "        X_train_std = scaler_X.fit_transform(X_train)\n",
    "        y_train_std = scaler_y.fit_transform(y_train_15)\n",
    "        X_test_std = scaler_X.transform(X_test)\n",
    "\n",
    "        nbrs = NearestNeighbors(n_neighbors=best_k).fit(X_train_std)\n",
    "        distances, indices = nbrs.kneighbors(X_train_std)\n",
    "        depth = np.zeros(len(X_train_std))\n",
    "        for i in range(len(X_train_std)):\n",
    "            depth[i] = fn.mahalanobis_depth(y_train_std[indices[i][1:]], y_train_std[indices[i][0]]).item()\n",
    "        gamma, lamda = fn.optimize_weight_parameters(X_train_std, y_train_std, depth)\n",
    "        weight_depth_opt = fn.weight(1 - depth, gamma, lamda)\n",
    "\n",
    "        mu_s_DWGP_std, _ = fn.gp_regression_weighted(X_train_std, y_train_std, X_test_std, theta_DWGP, sigma_DWGP, weight_depth_opt)\n",
    "        mu_s_DWGP = scaler_y.inverse_transform(mu_s_DWGP_std)\n",
    "        rmse_DWGP_15_list.append(np.sqrt(mean_squared_error(y_test_clean, mu_s_DWGP)))\n",
    "\n",
    "        # RWGP\n",
    "        w_D = fn.compute_robust_weights(X_train, y_train_15, gamma=0.005, r=0.5, s=5, eta=0.5)\n",
    "        mu_s_RWGP, _ = fn.gp_regression_weighted(X_train, y_train_15, X_test, theta_RWGP, sigma_RWGP, w_D)\n",
    "        rmse_RWGP_15_list.append(np.sqrt(mean_squared_error(y_test_clean, mu_s_RWGP)))\n",
    "\n",
    "        # SGP\n",
    "        mu_s_SGP, _ = fn.gp_regression(X_train, y_train_15, X_test, theta_SGP, sigma_SGP)\n",
    "        rmse_SGP_15_list.append(np.sqrt(mean_squared_error(y_test_clean, mu_s_SGP)))\n",
    "\n",
    "    return rmse_DWGP_15_list, rmse_RWGP_15_list, rmse_SGP_15_list\n",
    "\n",
    "# -------------------\n",
    "start_time = time.time()\n",
    "results_15 = Parallel(n_jobs=8)(delayed(run_repeat_15percent)(i) for i in range(30))\n",
    "\n",
    "rmse_results_DWGP_15 = np.array([r[0] for r in results_15])\n",
    "rmse_results_RWGP_15 = np.array([r[1] for r in results_15])\n",
    "rmse_results_SGP_15 = np.array([r[2] for r in results_15])\n",
    "\n",
    "rmse_DWGP_15 = np.mean(rmse_results_DWGP_15, axis=1)\n",
    "\n",
    "mean_rmse_DWGP_15 = np.mean(rmse_DWGP_15)\n",
    "std_rmse_DWGP_15 = np.std(rmse_DWGP_15)\n",
    "\n",
    "rmse_RWGP_15 = np.mean(rmse_results_RWGP_15, axis=1)\n",
    "\n",
    "mean_rmse_RWGP_15 = np.mean(rmse_RWGP_15)\n",
    "std_rmse_RWGP_15 = np.std(rmse_RWGP_15)\n",
    "\n",
    "\n",
    "rmse_SGP_15 = np.mean(rmse_results_SGP_15, axis=1)\n",
    "\n",
    "mean_rmse_SGP_15 = np.mean(rmse_SGP_15)\n",
    "std_rmse_SGP_15 = np.std(rmse_SGP_15)\n",
    "\n",
    "end_time = time.time()\n",
    "execution_time_15 = end_time - start_time\n",
    "\n",
    "\n",
    "print(f\"Execution time (15%): {execution_time_15:.2f} seconds\")\n",
    "print(f\"DWGP RMSE (15%): {mean_rmse_DWGP_15:.4f} ± {std_rmse_DWGP_15:.4f}\")\n",
    "print(f\"RWGP RMSE (15%): {mean_rmse_RWGP_15:.4f} ± {std_rmse_RWGP_15:.4f}\")\n",
    "print(f\"SGP  RMSE (15%): {mean_rmse_SGP_15:.4f} ± {std_rmse_SGP_15:.4f}\")\n",
    "\n",
    "print(f\"Average Error Difference between DWGP_15 and RWGP_15: {np.mean(rmse_DWGP_15)-np.mean(rmse_RWGP_15):.4f}\")\n",
    "print(f\"Average Error Difference between DWGP_15 and SGP_15: {np.mean(rmse_DWGP_15)-np.mean(rmse_SGP_15):.4f}\")\n"
   ]
  },
  {
   "cell_type": "code",
   "execution_count": 237,
   "id": "c31d09c3-5adc-41d1-97be-ddf9a0946d08",
   "metadata": {},
   "outputs": [
    {
     "name": "stdout",
     "output_type": "stream",
     "text": [
      "T-statistic: 13.978291248373608\n",
      "P-value: 2.042386665387517e-14\n"
     ]
    }
   ],
   "source": [
    "t_stat, p_value = stats.ttest_rel(rmse_DWGP_15, rmse_RWGP_15)\n",
    "print(\"T-statistic:\", t_stat)\n",
    "print(\"P-value:\", p_value)"
   ]
  },
  {
   "cell_type": "code",
   "execution_count": 239,
   "id": "e00285b9-745f-43f2-9bd0-4c9685346458",
   "metadata": {},
   "outputs": [
    {
     "name": "stdout",
     "output_type": "stream",
     "text": [
      "T-statistic: -1.4101583278287568\n",
      "P-value: 0.16912905082482624\n"
     ]
    }
   ],
   "source": [
    "t_stat, p_value = stats.ttest_rel(rmse_DWGP_15, rmse_SGP_15)\n",
    "print(\"T-statistic:\", t_stat)\n",
    "print(\"P-value:\", p_value)"
   ]
  },
  {
   "cell_type": "code",
   "execution_count": 241,
   "id": "2d003dfd-321a-4a87-ad4a-929c4ca416ea",
   "metadata": {},
   "outputs": [
    {
     "name": "stdout",
     "output_type": "stream",
     "text": [
      "Execution time (20%): 106.64 seconds\n",
      "DWGP RMSE (20%): 26.0836 ± 0.6743\n",
      "RWGP RMSE (20%): 23.8030 ± 0.6834\n",
      "SGP  RMSE (20%): 25.9467 ± 0.7918\n",
      "Average Error Difference between DWGP_20 and RWGP_20: 2.2806\n",
      "Average Error Difference between DWGP_20 and SGP_20: 0.1369\n"
     ]
    }
   ],
   "source": [
    "# ----------20% Contamination ---------\n",
    "np.random.seed(42)\n",
    "outlier_ratio = 0.2\n",
    "num_outliers = int(outlier_ratio * len(Y))\n",
    "outlier_indices = np.random.choice(len(Y), num_outliers, replace=False)\n",
    "y_std = np.std(Y)\n",
    "outlier_magnitude = np.random.uniform(3 * y_std, 5 * y_std, num_outliers).reshape(-1, 1)\n",
    "outlier_sign = np.random.choice([-1, 1], num_outliers).reshape(-1, 1)\n",
    "\n",
    "Y_20 = Y.copy()\n",
    "Y_20[outlier_indices] += outlier_sign * outlier_magnitude \n",
    "\n",
    "\n",
    "def run_repeat_20percent(repeat):\n",
    "    print(f\"Running repeat {repeat + 1}\")\n",
    "    rmse_DWGP_20_list, rmse_RWGP_20_list, rmse_SGP_20_list = [], [], []\n",
    "\n",
    "    kf = KFold(n_splits=10, shuffle=True, random_state=repeat)\n",
    "    for train_index, test_index in kf.split(X):\n",
    "        X_train, X_test = X[train_index], X[test_index]\n",
    "        y_train_20 = Y_20[train_index]    \n",
    "        y_test_clean = Y[test_index]       \n",
    "\n",
    "        # DWGP\n",
    "        scaler_X = StandardScaler()\n",
    "        scaler_y = StandardScaler()\n",
    "        X_train_std = scaler_X.fit_transform(X_train)\n",
    "        y_train_std = scaler_y.fit_transform(y_train_20)\n",
    "        X_test_std = scaler_X.transform(X_test)\n",
    "\n",
    "        nbrs = NearestNeighbors(n_neighbors=best_k).fit(X_train_std)\n",
    "        distances, indices = nbrs.kneighbors(X_train_std)\n",
    "        depth = np.zeros(len(X_train_std))\n",
    "        for i in range(len(X_train_std)):\n",
    "            depth[i] = fn.mahalanobis_depth(y_train_std[indices[i][1:]], y_train_std[indices[i][0]]).item()\n",
    "        gamma, lamda = fn.optimize_weight_parameters(X_train_std, y_train_std, depth)\n",
    "        weight_depth_opt = fn.weight(1 - depth, gamma, lamda)\n",
    "\n",
    "        mu_s_DWGP_std, _ = fn.gp_regression_weighted(X_train_std, y_train_std, X_test_std, theta_DWGP, sigma_DWGP, weight_depth_opt)\n",
    "        mu_s_DWGP = scaler_y.inverse_transform(mu_s_DWGP_std)\n",
    "        rmse_DWGP_20_list.append(np.sqrt(mean_squared_error(y_test_clean, mu_s_DWGP)))\n",
    "\n",
    "        # RWGP\n",
    "        w_D = fn.compute_robust_weights(X_train, y_train_20, gamma=0.005, r=0.5, s=5, eta=0.5)\n",
    "        mu_s_RWGP, _ = fn.gp_regression_weighted(X_train, y_train_20, X_test, theta_RWGP, sigma_RWGP, w_D)\n",
    "        rmse_RWGP_20_list.append(np.sqrt(mean_squared_error(y_test_clean, mu_s_RWGP)))\n",
    "\n",
    "        # SGP\n",
    "        mu_s_SGP, _ = fn.gp_regression(X_train, y_train_20, X_test, theta_SGP, sigma_SGP)\n",
    "        rmse_SGP_20_list.append(np.sqrt(mean_squared_error(y_test_clean, mu_s_SGP)))\n",
    "\n",
    "    return rmse_DWGP_20_list, rmse_RWGP_20_list, rmse_SGP_20_list\n",
    "\n",
    "start_time = time.time()\n",
    "results_20 = Parallel(n_jobs=8)(delayed(run_repeat_20percent)(i) for i in range(30))\n",
    "\n",
    "rmse_results_DWGP_20 = np.array([r[0] for r in results_20])\n",
    "rmse_results_RWGP_20 = np.array([r[1] for r in results_20])\n",
    "rmse_results_SGP_20 = np.array([r[2] for r in results_20])\n",
    "\n",
    "rmse_DWGP_20 = np.mean(rmse_results_DWGP_20, axis=1)\n",
    "\n",
    "mean_rmse_DWGP_20 = np.mean(rmse_DWGP_20)\n",
    "std_rmse_DWGP_20 = np.std(rmse_DWGP_20)\n",
    "\n",
    "rmse_RWGP_20 = np.mean(rmse_results_RWGP_20, axis=1)\n",
    "\n",
    "mean_rmse_RWGP_20 = np.mean(rmse_RWGP_20)\n",
    "std_rmse_RWGP_20 = np.std(rmse_RWGP_20)\n",
    "\n",
    "\n",
    "rmse_SGP_20 = np.mean(rmse_results_SGP_20, axis=1)\n",
    "\n",
    "mean_rmse_SGP_20 = np.mean(rmse_SGP_20)\n",
    "std_rmse_SGP_20 = np.std(rmse_SGP_20)\n",
    "\n",
    "end_time = time.time()\n",
    "execution_time_20 = end_time - start_time\n",
    "\n",
    "print(f\"Execution time (20%): {execution_time_20:.2f} seconds\")\n",
    "print(f\"DWGP RMSE (20%): {mean_rmse_DWGP_20:.4f} ± {std_rmse_DWGP_20:.4f}\")\n",
    "print(f\"RWGP RMSE (20%): {mean_rmse_RWGP_20:.4f} ± {std_rmse_RWGP_20:.4f}\")\n",
    "print(f\"SGP  RMSE (20%): {mean_rmse_SGP_20:.4f} ± {std_rmse_SGP_20:.4f}\")\n",
    "\n",
    "print(f\"Average Error Difference between DWGP_20 and RWGP_20: {np.mean(rmse_DWGP_20)-np.mean(rmse_RWGP_20):.4f}\")\n",
    "print(f\"Average Error Difference between DWGP_20 and SGP_20: {np.mean(rmse_DWGP_20)-np.mean(rmse_SGP_20):.4f}\")\n",
    "\n"
   ]
  },
  {
   "cell_type": "code",
   "execution_count": 243,
   "id": "567975f7-a721-4d58-a78e-e1816c350290",
   "metadata": {},
   "outputs": [
    {
     "name": "stdout",
     "output_type": "stream",
     "text": [
      "T-statistic: 13.897656596842545\n",
      "P-value: 2.3650438995059145e-14\n"
     ]
    }
   ],
   "source": [
    "t_stat, p_value = stats.ttest_rel(rmse_DWGP_20, rmse_RWGP_20)\n",
    "print(\"T-statistic:\", t_stat)\n",
    "print(\"P-value:\", p_value)"
   ]
  },
  {
   "cell_type": "code",
   "execution_count": 245,
   "id": "62e732b0-80c3-4006-bd08-28ef8a9852c9",
   "metadata": {},
   "outputs": [
    {
     "name": "stdout",
     "output_type": "stream",
     "text": [
      "T-statistic: 0.8213193842680873\n",
      "P-value: 0.418165484501857\n"
     ]
    }
   ],
   "source": [
    "t_stat, p_value = stats.ttest_rel(rmse_DWGP_20, rmse_SGP_20)\n",
    "print(\"T-statistic:\", t_stat)\n",
    "print(\"P-value:\", p_value)"
   ]
  },
  {
   "cell_type": "code",
   "execution_count": null,
   "id": "eb60d113-6163-4b67-bc94-04af95e7f97d",
   "metadata": {},
   "outputs": [],
   "source": []
  }
 ],
 "metadata": {
  "kernelspec": {
   "display_name": "Python 3 (ipykernel)",
   "language": "python",
   "name": "python3"
  },
  "language_info": {
   "codemirror_mode": {
    "name": "ipython",
    "version": 3
   },
   "file_extension": ".py",
   "mimetype": "text/x-python",
   "name": "python",
   "nbconvert_exporter": "python",
   "pygments_lexer": "ipython3",
   "version": "3.12.2"
  }
 },
 "nbformat": 4,
 "nbformat_minor": 5
}
